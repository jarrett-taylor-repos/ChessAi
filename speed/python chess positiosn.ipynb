{
 "cells": [
  {
   "cell_type": "code",
   "execution_count": null,
   "id": "0c3f33f8",
   "metadata": {},
   "outputs": [],
   "source": [
    "import chess\n",
    "\n",
    "fileread = open('chessPositions.txt', 'r')\n",
    "filewrite = open('correctChessPos.txt', 'w')\n",
    "\n",
    "lines_fileread = fileread.readlines()\n",
    "\n",
    "for line in lines_fileread:\n",
    "    spaces = line.split(' ')\n",
    "    fen = spaces[0] + ' ' + spaces[1] + ' ' + spaces[2] + ' ' + spaces[3] + ' ' + spaces[4] + ' ' + spaces[5]\n",
    "    \n",
    "    board = chess.Board(fen)\n",
    "    correct_num_moves = len(list(board.legal_moves))\n",
    "    if correct_num_moves != int(spaces[7]):\n",
    "        write_to_line = fen + ' Mine vs stockfish ' + spaces[7].strip() + ', ' + str(correct_num_moves) + '\\n'\n",
    "        filewrite.writelines(write_to_line)\n",
    "\n",
    " \n",
    "# writing to file\n",
    "# file1 = open('myfile.txt', 'w')\n",
    "# file1.writelines(L)\n",
    "# file1.close()\n",
    " \n",
    "# # Using readlines()\n",
    "# file1 = open('myfile.txt', 'r')\n",
    "# Lines = file1.readlines()\n",
    " \n",
    "# count = 0\n",
    "# # Strips the newline character\n",
    "# for line in Lines:\n",
    "#     count += 1\n",
    "#     print(\"Line{}: {}\".format(count, line.strip()))"
   ]
  },
  {
   "cell_type": "code",
   "execution_count": null,
   "id": "79f6072c",
   "metadata": {},
   "outputs": [],
   "source": []
  }
 ],
 "metadata": {
  "kernelspec": {
   "display_name": "Python 3",
   "language": "python",
   "name": "python3"
  },
  "language_info": {
   "codemirror_mode": {
    "name": "ipython",
    "version": 3
   },
   "file_extension": ".py",
   "mimetype": "text/x-python",
   "name": "python",
   "nbconvert_exporter": "python",
   "pygments_lexer": "ipython3",
   "version": "3.8.8"
  }
 },
 "nbformat": 4,
 "nbformat_minor": 5
}
